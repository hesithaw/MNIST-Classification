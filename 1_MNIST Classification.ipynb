{
 "cells": [
  {
   "cell_type": "code",
   "execution_count": 24,
   "metadata": {},
   "outputs": [],
   "source": [
    "from keras.datasets import mnist\n",
    "from matplotlib import pyplot\n",
    "from keras.models import Sequential\n",
    "from keras.layers import Conv2D\n",
    "from keras.layers import MaxPooling2D\n",
    "from keras.layers import Dense\n",
    "from keras.layers import Flatten\n",
    "from keras.optimizers import SGD\n",
    "from keras.utils import to_categorical\n",
    "from sklearn.model_selection import KFold"
   ]
  },
  {
   "cell_type": "code",
   "execution_count": 25,
   "metadata": {},
   "outputs": [],
   "source": [
    "#loading mnist data set\n",
    "(trainX, trainy), (testX, testy) = mnist.load_data()"
   ]
  },
  {
   "cell_type": "code",
   "execution_count": 26,
   "metadata": {},
   "outputs": [
    {
     "name": "stdout",
     "output_type": "stream",
     "text": [
      "Train Set: X=(60000, 28, 28), y=(60000,)\n",
      "Test Set: X=(10000, 28, 28), y=(10000,)\n"
     ]
    }
   ],
   "source": [
    "print('Train Set: X=%s, y=%s' % (trainX.shape, trainy.shape))\n",
    "print('Test Set: X=%s, y=%s' % (testX.shape, testy.shape))"
   ]
  },
  {
   "cell_type": "code",
   "execution_count": 27,
   "metadata": {},
   "outputs": [],
   "source": [
    "# reshape dataset to have a single channel\n",
    "trainX = trainX.reshape((trainX.shape[0], 28, 28, 1))\n",
    "testX = testX.reshape((testX.shape[0], 28, 28, 1))\n",
    "# convert from integers to floats\n",
    "trainX = trainX.astype('float32')\n",
    "testX = testX.astype('float32')\n",
    "# normalize to range 0-1\n",
    "trainX = trainX / 255.0\n",
    "testX = testX / 255.0"
   ]
  },
  {
   "cell_type": "code",
   "execution_count": 28,
   "metadata": {},
   "outputs": [],
   "source": [
    "# one hot encode target values\n",
    "trainy = to_categorical(trainy)\n",
    "testy = to_categorical(testy)"
   ]
  },
  {
   "cell_type": "code",
   "execution_count": 29,
   "metadata": {},
   "outputs": [
    {
     "name": "stdout",
     "output_type": "stream",
     "text": [
      "Train Set: X=(60000, 28, 28, 1), y=(60000, 10)\n",
      "Test Set: X=(10000, 28, 28, 1), y=(10000, 10)\n"
     ]
    }
   ],
   "source": [
    "print('Train Set: X=%s, y=%s' % (trainX.shape, trainy.shape))\n",
    "print('Test Set: X=%s, y=%s' % (testX.shape, testy.shape))"
   ]
  },
  {
   "cell_type": "code",
   "execution_count": 52,
   "metadata": {},
   "outputs": [],
   "source": [
    "#initial model\n",
    "model = Sequential()\n",
    "model.add(Conv2D(32, (5, 5), activation='relu', kernel_initializer='he_uniform', input_shape=(28, 28, 1)))\n",
    "model.add(MaxPooling2D((2, 2)))\n",
    "model.add(Flatten())\n",
    "model.add(Dense(100, activation='relu', kernel_initializer='he_uniform'))\n",
    "model.add(Dense(10, activation='softmax'))\n",
    "# compile model\n",
    "opt = SGD(lr=0.01, momentum=0.9)\n",
    "model.compile(optimizer=opt, loss='categorical_crossentropy', metrics=['accuracy'])"
   ]
  },
  {
   "cell_type": "code",
   "execution_count": 55,
   "metadata": {},
   "outputs": [
    {
     "name": "stdout",
     "output_type": "stream",
     "text": [
      "Model: \"sequential_12\"\n",
      "_________________________________________________________________\n",
      "Layer (type)                 Output Shape              Param #   \n",
      "=================================================================\n",
      "conv2d_12 (Conv2D)           (None, 24, 24, 32)        832       \n",
      "_________________________________________________________________\n",
      "max_pooling2d_12 (MaxPooling (None, 12, 12, 32)        0         \n",
      "_________________________________________________________________\n",
      "flatten_12 (Flatten)         (None, 4608)              0         \n",
      "_________________________________________________________________\n",
      "dense_23 (Dense)             (None, 100)               460900    \n",
      "_________________________________________________________________\n",
      "dense_24 (Dense)             (None, 10)                1010      \n",
      "=================================================================\n",
      "Total params: 462,742\n",
      "Trainable params: 462,742\n",
      "Non-trainable params: 0\n",
      "_________________________________________________________________\n"
     ]
    }
   ],
   "source": [
    "model.summary()"
   ]
  },
  {
   "cell_type": "code",
   "execution_count": 53,
   "metadata": {},
   "outputs": [
    {
     "name": "stdout",
     "output_type": "stream",
     "text": [
      "Train on 60000 samples, validate on 10000 samples\n",
      "Epoch 1/10\n",
      "60000/60000 [==============================] - 39s 656us/step - loss: 0.1566 - accuracy: 0.9522 - val_loss: 0.0534 - val_accuracy: 0.9846\n",
      "Epoch 2/10\n",
      "60000/60000 [==============================] - 45s 743us/step - loss: 0.0496 - accuracy: 0.9850 - val_loss: 0.0391 - val_accuracy: 0.9874\n",
      "Epoch 3/10\n",
      "60000/60000 [==============================] - 45s 745us/step - loss: 0.0323 - accuracy: 0.9901 - val_loss: 0.0328 - val_accuracy: 0.9891\n",
      "Epoch 4/10\n",
      "60000/60000 [==============================] - 52s 860us/step - loss: 0.0226 - accuracy: 0.9925 - val_loss: 0.0366 - val_accuracy: 0.9888\n",
      "Epoch 5/10\n",
      "60000/60000 [==============================] - 49s 823us/step - loss: 0.0149 - accuracy: 0.9955 - val_loss: 0.0376 - val_accuracy: 0.9877\n",
      "Epoch 6/10\n",
      "60000/60000 [==============================] - 51s 852us/step - loss: 0.0119 - accuracy: 0.9965 - val_loss: 0.0310 - val_accuracy: 0.9906\n",
      "Epoch 7/10\n",
      "60000/60000 [==============================] - 51s 858us/step - loss: 0.0085 - accuracy: 0.9976 - val_loss: 0.0382 - val_accuracy: 0.9886\n",
      "Epoch 8/10\n",
      "60000/60000 [==============================] - 42s 704us/step - loss: 0.0057 - accuracy: 0.9985 - val_loss: 0.0307 - val_accuracy: 0.9900\n",
      "Epoch 9/10\n",
      "60000/60000 [==============================] - 40s 674us/step - loss: 0.0039 - accuracy: 0.9992 - val_loss: 0.0428 - val_accuracy: 0.9890\n",
      "Epoch 10/10\n",
      "60000/60000 [==============================] - 41s 678us/step - loss: 0.0027 - accuracy: 0.9995 - val_loss: 0.0384 - val_accuracy: 0.9896\n"
     ]
    }
   ],
   "source": [
    "# fit model\n",
    "history = model.fit(trainX, trainy, epochs=10, batch_size=32, validation_data=(testX, testy))"
   ]
  },
  {
   "cell_type": "code",
   "execution_count": 54,
   "metadata": {},
   "outputs": [
    {
     "name": "stdout",
     "output_type": "stream",
     "text": [
      "Accuracy : 98.960\n"
     ]
    }
   ],
   "source": [
    "# evaluate model\n",
    "_, acc = model.evaluate(testX, testy, verbose=0)\n",
    "print('Accuracy : %.3f' % (acc * 100.0))"
   ]
  }
 ],
 "metadata": {
  "kernelspec": {
   "display_name": "Python 3",
   "language": "python",
   "name": "python3"
  },
  "language_info": {
   "codemirror_mode": {
    "name": "ipython",
    "version": 3
   },
   "file_extension": ".py",
   "mimetype": "text/x-python",
   "name": "python",
   "nbconvert_exporter": "python",
   "pygments_lexer": "ipython3",
   "version": "3.7.1"
  }
 },
 "nbformat": 4,
 "nbformat_minor": 2
}
